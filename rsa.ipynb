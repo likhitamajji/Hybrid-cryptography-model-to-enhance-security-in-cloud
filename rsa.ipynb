{
 "cells": [
  {
   "cell_type": "code",
   "execution_count": 18,
   "id": "032e0239",
   "metadata": {},
   "outputs": [
    {
     "name": "stdout",
     "output_type": "stream",
     "text": [
      "Requirement already satisfied: rsa in c:\\users\\dell\\anaconda3\\lib\\site-packages (4.7.2)Note: you may need to restart the kernel to use updated packages.\n",
      "Requirement already satisfied: pyasn1>=0.1.3 in c:\\users\\dell\\anaconda3\\lib\\site-packages (from rsa) (0.4.8)\n",
      "\n"
     ]
    }
   ],
   "source": [
    "pip install rsa"
   ]
  },
  {
   "cell_type": "code",
   "execution_count": 19,
   "id": "6d271849",
   "metadata": {},
   "outputs": [],
   "source": [
    "import rsa"
   ]
  },
  {
   "cell_type": "code",
   "execution_count": 20,
   "id": "a00c7871",
   "metadata": {},
   "outputs": [],
   "source": [
    "public_key, private_key = rsa.newkeys(1024)\n",
    "with open(\"public.pem\", \"wb\") as f:\n",
    "    f.write(public_key.save_pkcs1(\"PEM\"))\n",
    "with open(\"private.pem\", \"wb\") as f:\n",
    "    f.write(private_key.save_pkcs1(\"PEM\"))"
   ]
  },
  {
   "cell_type": "code",
   "execution_count": 21,
   "id": "40ac1c76",
   "metadata": {},
   "outputs": [],
   "source": [
    "def loadKeys():\n",
    "    with open(\"public.pem\", \"rb\") as f:\n",
    "        public_key= rsa.PublicKey.load_pkcs1(f.read())\n",
    "    with open(\"private.pem\", \"rb\") as f:\n",
    "        private_key= rsa.PrivateKey.load_pkcs1(f.read())"
   ]
  },
  {
   "cell_type": "code",
   "execution_count": 22,
   "id": "c05f452c",
   "metadata": {},
   "outputs": [],
   "source": [
    "def encrypt(message, key):\n",
    "        return rsa.encrypt(message,encode('ascii'), key)"
   ]
  },
  {
   "cell_type": "code",
   "execution_count": 23,
   "id": "81948c06",
   "metadata": {},
   "outputs": [],
   "source": [
    "message=\"just go with flow\""
   ]
  },
  {
   "cell_type": "code",
   "execution_count": 24,
   "id": "4d6e79de",
   "metadata": {},
   "outputs": [
    {
     "name": "stdout",
     "output_type": "stream",
     "text": [
      "b\"N\\xaf\\n\\xc7\\xd7\\x8a\\x13\\xfa\\x9a\\xc4\\x06C\\xed\\xd4G\\xeec\\x10`\\x98\\xef\\xdf4\\x00C\\xe9|k\\xd0bL\\x10!\\xd7q\\xf7\\xfes\\xc9\\x12\\x97\\xaa;\\n59\\xf7jJ\\x07\\x1f\\xd8w\\xb6\\xdc\\xde\\xd8\\x9c\\x967.A\\xd5J\\xbeO\\xa6\\x04\\x9a]'\\xca\\x0cV\\xd19\\x02Z{\\xdf\\xd6\\xc6:\\xd7t\\xd2\\xad\\x10l\\xd3HLN\\x83>}\\xcd\\xd3!9wF\\x80_kn\\xb3\\xa3\\xcb\\xbe@\\xd4\\x19N\\x9c\\x12\\xec\\xe9A\\x0b_V)\\xed\\xe7\\xbcM,\"\n"
     ]
    }
   ],
   "source": [
    "encrypted_message = rsa.encrypt(message.encode(),public_key)\n",
    "print(encrypted_message)"
   ]
  },
  {
   "cell_type": "code",
   "execution_count": 25,
   "id": "4692b9dd",
   "metadata": {},
   "outputs": [],
   "source": [
    " with open(\"encrypted.message\", \"wb\") as f:\n",
    "    f.write(encrypted_message)"
   ]
  },
  {
   "cell_type": "code",
   "execution_count": 26,
   "id": "901755e6",
   "metadata": {},
   "outputs": [],
   "source": [
    "encrypted_message = open(\"encrypted.message\", \"rb\").read()"
   ]
  },
  {
   "cell_type": "code",
   "execution_count": 27,
   "id": "aaaa61e8",
   "metadata": {},
   "outputs": [
    {
     "name": "stdout",
     "output_type": "stream",
     "text": [
      "<built-in method decode of bytes object at 0x00000274E85A11F0>\n"
     ]
    }
   ],
   "source": [
    "clear_message = rsa.decrypt(encrypted_message, private_key)\n",
    "print(clear_message.decode)"
   ]
  },
  {
   "cell_type": "code",
   "execution_count": 28,
   "id": "3788d8e3",
   "metadata": {},
   "outputs": [],
   "source": [
    "message = \"we can't renovate our destiny \""
   ]
  },
  {
   "cell_type": "code",
   "execution_count": 29,
   "id": "7bd1eb0f",
   "metadata": {},
   "outputs": [],
   "source": [
    "signature = rsa.sign(message.encode(), private_key, \"SHA-256\")"
   ]
  },
  {
   "cell_type": "code",
   "execution_count": 30,
   "id": "59b1dd79",
   "metadata": {},
   "outputs": [],
   "source": [
    "with open(\"signature\", \"wb\") as f:\n",
    "    f.write(signature)"
   ]
  },
  {
   "cell_type": "code",
   "execution_count": 31,
   "id": "75ca048b",
   "metadata": {},
   "outputs": [],
   "source": [
    "with open(\"signature\", \"rb\") as f:\n",
    "    signature = f.read()"
   ]
  },
  {
   "cell_type": "code",
   "execution_count": 32,
   "id": "47f0b7d8",
   "metadata": {},
   "outputs": [
    {
     "name": "stdout",
     "output_type": "stream",
     "text": [
      "SHA-256\n"
     ]
    }
   ],
   "source": [
    "print(rsa.verify(message.encode(), signature, public_key))"
   ]
  },
  {
   "cell_type": "code",
   "execution_count": 33,
   "id": "0d0d9e2c",
   "metadata": {},
   "outputs": [],
   "source": [
    "public_key, private_key = rsa.newkeys(1024)"
   ]
  },
  {
   "cell_type": "code",
   "execution_count": 34,
   "id": "157e4081",
   "metadata": {},
   "outputs": [
    {
     "ename": "VerificationError",
     "evalue": "Verification failed",
     "output_type": "error",
     "traceback": [
      "\u001b[1;31m---------------------------------------------------------------------------\u001b[0m",
      "\u001b[1;31mVerificationError\u001b[0m                         Traceback (most recent call last)",
      "Input \u001b[1;32mIn [34]\u001b[0m, in \u001b[0;36m<cell line: 1>\u001b[1;34m()\u001b[0m\n\u001b[1;32m----> 1\u001b[0m \u001b[38;5;28mprint\u001b[39m(\u001b[43mrsa\u001b[49m\u001b[38;5;241;43m.\u001b[39;49m\u001b[43mverify\u001b[49m\u001b[43m(\u001b[49m\u001b[43mmessage\u001b[49m\u001b[38;5;241;43m.\u001b[39;49m\u001b[43mencode\u001b[49m\u001b[43m(\u001b[49m\u001b[43m)\u001b[49m\u001b[43m,\u001b[49m\u001b[43m \u001b[49m\u001b[43msignature\u001b[49m\u001b[43m,\u001b[49m\u001b[43m \u001b[49m\u001b[43mpublic_key\u001b[49m\u001b[43m)\u001b[49m)\n",
      "File \u001b[1;32m~\\anaconda3\\lib\\site-packages\\rsa\\pkcs1.py:355\u001b[0m, in \u001b[0;36mverify\u001b[1;34m(message, signature, pub_key)\u001b[0m\n\u001b[0;32m    352\u001b[0m clearsig \u001b[38;5;241m=\u001b[39m transform\u001b[38;5;241m.\u001b[39mint2bytes(decrypted, keylength)\n\u001b[0;32m    354\u001b[0m \u001b[38;5;66;03m# Get the hash method\u001b[39;00m\n\u001b[1;32m--> 355\u001b[0m method_name \u001b[38;5;241m=\u001b[39m \u001b[43m_find_method_hash\u001b[49m\u001b[43m(\u001b[49m\u001b[43mclearsig\u001b[49m\u001b[43m)\u001b[49m\n\u001b[0;32m    356\u001b[0m message_hash \u001b[38;5;241m=\u001b[39m compute_hash(message, method_name)\n\u001b[0;32m    358\u001b[0m \u001b[38;5;66;03m# Reconstruct the expected padded hash\u001b[39;00m\n",
      "File \u001b[1;32m~\\anaconda3\\lib\\site-packages\\rsa\\pkcs1.py:452\u001b[0m, in \u001b[0;36m_find_method_hash\u001b[1;34m(clearsig)\u001b[0m\n\u001b[0;32m    449\u001b[0m     \u001b[38;5;28;01mif\u001b[39;00m asn1code \u001b[38;5;129;01min\u001b[39;00m clearsig:\n\u001b[0;32m    450\u001b[0m         \u001b[38;5;28;01mreturn\u001b[39;00m hashname\n\u001b[1;32m--> 452\u001b[0m \u001b[38;5;28;01mraise\u001b[39;00m VerificationError(\u001b[38;5;124m'\u001b[39m\u001b[38;5;124mVerification failed\u001b[39m\u001b[38;5;124m'\u001b[39m)\n",
      "\u001b[1;31mVerificationError\u001b[0m: Verification failed"
     ]
    }
   ],
   "source": [
    "print(rsa.verify(message.encode(), signature, public_key))"
   ]
  },
  {
   "cell_type": "code",
   "execution_count": 27,
   "id": "24556f85",
   "metadata": {},
   "outputs": [],
   "source": [
    "import brotli\n",
    "import time"
   ]
  },
  {
   "cell_type": "code",
   "execution_count": 28,
   "id": "5700d101",
   "metadata": {},
   "outputs": [],
   "source": [
    "message=b\"just go with flow,we can't renovate our destiny\"*990000"
   ]
  },
  {
   "cell_type": "code",
   "execution_count": 29,
   "id": "58463ba6",
   "metadata": {},
   "outputs": [
    {
     "name": "stdout",
     "output_type": "stream",
     "text": [
      "original data size: 46530000\n"
     ]
    }
   ],
   "source": [
    "print('original data size:',len(message))"
   ]
  },
  {
   "cell_type": "code",
   "execution_count": 30,
   "id": "e5c8feec",
   "metadata": {},
   "outputs": [],
   "source": [
    "start = time.time()\n",
    "compressed_message_brotli =brotli.compress(message)\n",
    "end = time.time()"
   ]
  },
  {
   "cell_type": "code",
   "execution_count": 31,
   "id": "c74fbb98",
   "metadata": {},
   "outputs": [
    {
     "name": "stdout",
     "output_type": "stream",
     "text": [
      "12.179112911224365\n"
     ]
    }
   ],
   "source": [
    "print(end-start)"
   ]
  },
  {
   "cell_type": "code",
   "execution_count": 32,
   "id": "d73b4bae",
   "metadata": {},
   "outputs": [
    {
     "name": "stdout",
     "output_type": "stream",
     "text": [
      "651\n"
     ]
    }
   ],
   "source": [
    "print(len(compressed_message_brotli))"
   ]
  },
  {
   "cell_type": "code",
   "execution_count": 34,
   "id": "0bc738f7",
   "metadata": {},
   "outputs": [
    {
     "name": "stderr",
     "output_type": "stream",
     "text": [
      "IOPub data rate exceeded.\n",
      "The notebook server will temporarily stop sending output\n",
      "to the client in order to avoid crashing it.\n",
      "To change this limit, set the config variable\n",
      "`--NotebookApp.iopub_data_rate_limit`.\n",
      "\n",
      "Current values:\n",
      "NotebookApp.iopub_data_rate_limit=1000000.0 (bytes/sec)\n",
      "NotebookApp.rate_limit_window=3.0 (secs)\n",
      "\n"
     ]
    }
   ],
   "source": [
    "print(brotli.decompress(compressed_message_brotli))"
   ]
  },
  {
   "cell_type": "code",
   "execution_count": null,
   "id": "33aaaed8",
   "metadata": {},
   "outputs": [],
   "source": []
  }
 ],
 "metadata": {
  "kernelspec": {
   "display_name": "Python 3 (ipykernel)",
   "language": "python",
   "name": "python3"
  },
  "language_info": {
   "codemirror_mode": {
    "name": "ipython",
    "version": 3
   },
   "file_extension": ".py",
   "mimetype": "text/x-python",
   "name": "python",
   "nbconvert_exporter": "python",
   "pygments_lexer": "ipython3",
   "version": "3.9.12"
  }
 },
 "nbformat": 4,
 "nbformat_minor": 5
}
